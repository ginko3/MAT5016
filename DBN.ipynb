{
 "cells": [
  {
   "cell_type": "code",
   "execution_count": 1,
   "metadata": {},
   "outputs": [
    {
     "name": "stderr",
     "output_type": "stream",
     "text": [
      "Using TensorFlow backend.\n"
     ]
    }
   ],
   "source": [
    "import numpy as np\n",
    "from matplotlib import pyplot as plt\n",
    "import tqdm\n",
    "from keras.datasets import mnist\n",
    "from keras.utils import to_categorical\n",
    "from keras.preprocessing.image import ImageDataGenerator"
   ]
  },
  {
   "cell_type": "code",
   "execution_count": 2,
   "metadata": {},
   "outputs": [],
   "source": [
    "def show_img(img):\n",
    "    img = img.reshape((28, 28))\n",
    "    plt.imshow(img, cmap='gray')"
   ]
  },
  {
   "cell_type": "markdown",
   "metadata": {},
   "source": [
    "# Load & pre-process data"
   ]
  },
  {
   "cell_type": "code",
   "execution_count": 3,
   "metadata": {},
   "outputs": [],
   "source": [
    "num_class = 10\n",
    "input_shape = (28, 28, 1)\n",
    "\n",
    "(x_train, y_train), (x_test, y_test) = mnist.load_data()\n",
    "\n",
    "x_train = x_train.reshape(-1, np.prod(input_shape)).astype('float32') / 255\n",
    "x_test = x_test.reshape(-1, np.prod(input_shape)).astype('float32') / 255\n",
    "\n",
    "# y_train = to_categorical(y_train, num_class)\n",
    "# y_test = to_categorical(y_test, num_class)"
   ]
  },
  {
   "cell_type": "code",
   "execution_count": 4,
   "metadata": {},
   "outputs": [],
   "source": [
    "batch = []\n",
    "for i in range(10):\n",
    "    batch.append( x_train[np.where(y_train == i)[0],] )"
   ]
  },
  {
   "cell_type": "markdown",
   "metadata": {},
   "source": [
    "# Defines RBM"
   ]
  },
  {
   "cell_type": "code",
   "execution_count": 5,
   "metadata": {},
   "outputs": [],
   "source": [
    "class RBM():\n",
    "    def __init__(self, q, n):\n",
    "        self.W = np.random.normal(scale=0.01, size=(n, q))\n",
    "        self.a = np.zeros(n)\n",
    "        self.b = np.zeros(q)\n",
    "        \n",
    "    def forward(self, X):\n",
    "        return self.sigmoid(np.dot(X, self.W) + self.b)\n",
    "    \n",
    "    def backward(self, H):\n",
    "        return self.sigmoid(np.dot(H, self.W.T) + self.a)\n",
    "    \n",
    "    def train(self, X, epochs=5, lr=1e-3):\n",
    "        m = len(X)\n",
    "        losses = np.zeros(epochs)\n",
    "        \n",
    "        v_0 = X\n",
    "        \n",
    "        for epoch in tqdm.tqdm(range(epochs)):\n",
    "\n",
    "            # Sample h_0\n",
    "            p_h_v_0 = self.forward(v_0)\n",
    "            h_0 = p_h_v_0 >= np.random.random(p_h_v_0.shape)\n",
    "\n",
    "            # Sample v_1\n",
    "            p_v_h_0 = self.backward(h_0)\n",
    "            v_1 = p_v_h_0 >= np.random.random(p_v_h_0.shape)\n",
    "            \n",
    "            # Loss\n",
    "            losses[epoch] = ((v_0 - v_1) ** 2).mean()\n",
    "\n",
    "            p_h_v_1 = self.forward(v_1)\n",
    "\n",
    "            # Compute deltas\n",
    "            dw = np.dot(v_0.T, p_h_v_0) - np.dot(v_1.T, p_h_v_1)\n",
    "            da = np.sum(v_0 - v_1, axis=0)\n",
    "            db = np.sum(p_h_v_0 - p_h_v_1, axis=0)\n",
    "\n",
    "            # Update weights\n",
    "            self.W += lr * dw\n",
    "            self.a += lr * da\n",
    "            self.b += lr * db\n",
    "            \n",
    "        plt.plot(losses)\n",
    "            \n",
    "    def generate_image(self, n_iter_gibs=3, n_images=5):\n",
    "        pass\n",
    "\n",
    "    def sigmoid(self, x):\n",
    "        return 1 / (1 + np.exp(-x))"
   ]
  },
  {
   "cell_type": "code",
   "execution_count": 39,
   "metadata": {},
   "outputs": [],
   "source": [
    "class DBN():\n",
    "    def __init__(self, layers=3, n_h=[10, 16, 32, 784]):\n",
    "        self.layers = [RBM(n_h[i], n_h[i+1]) for i in range(len(n_h)-1)]\n",
    "        \n",
    "    def train(self, X, epochs=5, lr=1e-3):\n",
    "        for layer in reversed(self.layers):\n",
    "            layer.train(X, epochs=epochs, lr=lr)\n",
    "            X = layer.forward(X)"
   ]
  },
  {
   "cell_type": "code",
   "execution_count": 42,
   "metadata": {},
   "outputs": [],
   "source": [
    "dbn = DBN()"
   ]
  },
  {
   "cell_type": "code",
   "execution_count": 43,
   "metadata": {},
   "outputs": [
    {
     "name": "stderr",
     "output_type": "stream",
     "text": [
      "100%|██████████| 5/5 [00:05<00:00,  1.19s/it]\n",
      "100%|██████████| 5/5 [00:00<00:00, 14.96it/s]\n",
      "100%|██████████| 5/5 [00:00<00:00, 25.53it/s]\n"
     ]
    },
    {
     "data": {
      "image/png": "[encoded data removed]",
      "text/plain": [
       "<Figure size 432x288 with 1 Axes>"
      ]
     },
     "metadata": {
      "needs_background": "light"
     },
     "output_type": "display_data"
    }
   ],
   "source": [
    "dbn.train(batch[6], epochs=5, lr=1e-4)"
   ]
  },
  {
   "cell_type": "markdown",
   "metadata": {},
   "source": [
    "# Params"
   ]
  },
  {
   "cell_type": "code",
   "execution_count": 6,
   "metadata": {},
   "outputs": [],
   "source": [
    "q = 10\n",
    "n = np.prod(input_shape)"
   ]
  },
  {
   "cell_type": "markdown",
   "metadata": {},
   "source": [
    "# Code"
   ]
  },
  {
   "cell_type": "code",
   "execution_count": 7,
   "metadata": {},
   "outputs": [],
   "source": [
    "rbm = RBM(q, n)"
   ]
  },
  {
   "cell_type": "code",
   "execution_count": 8,
   "metadata": {},
   "outputs": [
    {
     "name": "stderr",
     "output_type": "stream",
     "text": [
      "100%|██████████| 20/20 [00:21<00:00,  1.03s/it]\n"
     ]
    },
    {
     "data": {
      "image/png": "[encoded data removed]",
      "text/plain": [
       "<Figure size 432x288 with 1 Axes>"
      ]
     },
     "metadata": {
      "needs_background": "light"
     },
     "output_type": "display_data"
    }
   ],
   "source": [
    "rbm.train(batch[6], epochs=20, lr=1e-4)"
   ]
  },
  {
   "cell_type": "code",
   "execution_count": 9,
   "metadata": {},
   "outputs": [],
   "source": [
    "output = rbm.backward(rbm.forward(np.random.normal(size=(1, 784))))"
   ]
  },
  {
   "cell_type": "code",
   "execution_count": 10,
   "metadata": {},
   "outputs": [
    {
     "data": {
      "image/png": "[encoded data removed]",
      "text/plain": [
       "<Figure size 432x288 with 1 Axes>"
      ]
     },
     "metadata": {
      "needs_background": "light"
     },
     "output_type": "display_data"
    }
   ],
   "source": [
    "show_img(output)"
   ]
  }
 ],
 "metadata": {
  "kernelspec": {
   "display_name": "Python 3",
   "language": "python",
   "name": "python3"
  },
  "language_info": {
   "codemirror_mode": {
    "name": "ipython",
    "version": 3
   },
   "file_extension": ".py",
   "mimetype": "text/x-python",
   "name": "python",
   "nbconvert_exporter": "python",
   "pygments_lexer": "ipython3",
   "version": "3.6.7"
  }
 },
 "nbformat": 4,
 "nbformat_minor": 2
}
