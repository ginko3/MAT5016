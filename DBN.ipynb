{
 "cells": [
  {
   "cell_type": "code",
   "execution_count": 1,
   "metadata": {},
   "outputs": [
    {
     "name": "stderr",
     "output_type": "stream",
     "text": [
      "Using TensorFlow backend.\n"
     ]
    }
   ],
   "source": [
    "import numpy as np\n",
    "from keras.datasets import mnist\n",
    "from keras.utils import to_categorical\n",
    "from keras.preprocessing.image import ImageDataGenerator\n",
    "\n",
    "from DBN import DBN\n",
    "from utils import show_img\n",
    "import scipy.io as sio"
   ]
  },
  {
   "cell_type": "markdown",
   "metadata": {},
   "source": [
    "# Load & pre-process data"
   ]
  },
  {
   "cell_type": "markdown",
   "metadata": {},
   "source": [
    "## Loads mnist"
   ]
  },
  {
   "cell_type": "code",
   "execution_count": 2,
   "metadata": {},
   "outputs": [],
   "source": [
    "# num_class = 10\n",
    "# input_shape = (28, 28, 1)\n",
    "\n",
    "# (x_train, y_train), (x_test, y_test) = mnist.load_data()\n",
    "\n",
    "# x_train = x_train.reshape(-1, np.prod(input_shape)).astype('float32') / 255\n",
    "# x_test = x_test.reshape(-1, np.prod(input_shape)).astype('float32') / 255"
   ]
  },
  {
   "cell_type": "markdown",
   "metadata": {},
   "source": [
    "## Loads binaryAlphadigits"
   ]
  },
  {
   "cell_type": "code",
   "execution_count": 3,
   "metadata": {},
   "outputs": [],
   "source": [
    "num_class = 36\n",
    "input_shape = (20, 16)\n",
    "\n",
    "classlabels = sio.loadmat('data/binaryalphadigs.mat')['classlabels'][0]\n",
    "dat = sio.loadmat('data/binaryalphadigs.mat')['dat']\n",
    "num_example = 39\n",
    "\n",
    "x = np.zeros((num_class, num_example, *input_shape))\n",
    "y = np.zeros((num_class, num_example))\n",
    "\n",
    "for idx_class in range(num_class):\n",
    "    x[idx_class] = np.array([*dat[idx_class,:]])\n",
    "    y[idx_class] = idx_class\n",
    "    \n",
    "x_train = x.reshape((-1, np.prod(input_shape)))\n",
    "y_train = y.reshape((-1))"
   ]
  },
  {
   "cell_type": "code",
   "execution_count": 4,
   "metadata": {},
   "outputs": [
    {
     "name": "stdout",
     "output_type": "stream",
     "text": [
      "x_train: (1404, 320) \n",
      "y_train: (1404,)\n"
     ]
    }
   ],
   "source": [
    "print(f\"x_train: {x_train.shape} \\ny_train: {y_train.shape}\")"
   ]
  },
  {
   "cell_type": "code",
   "execution_count": 5,
   "metadata": {},
   "outputs": [],
   "source": [
    "batch = []\n",
    "for i in range(num_class):\n",
    "    batch.append( x_train[np.where(y_train == i)[0],] )"
   ]
  },
  {
   "cell_type": "markdown",
   "metadata": {},
   "source": [
    "# Training"
   ]
  },
  {
   "cell_type": "code",
   "execution_count": 6,
   "metadata": {},
   "outputs": [],
   "source": [
    "dbn = DBN(layers=3, n_h=[10, 16, 32, np.prod(input_shape)])"
   ]
  },
  {
   "cell_type": "code",
   "execution_count": 7,
   "metadata": {},
   "outputs": [
    {
     "name": "stderr",
     "output_type": "stream",
     "text": [
      "100%|██████████| 20/20 [00:00<00:00, 108.25it/s]\n",
      "100%|██████████| 20/20 [00:00<00:00, 871.67it/s]\n",
      "100%|██████████| 20/20 [00:00<00:00, 1027.50it/s]\n"
     ]
    },
    {
     "data": {
      "image/png": "[encoded data removed]",
      "text/plain": [
       "<Figure size 432x288 with 1 Axes>"
      ]
     },
     "metadata": {
      "needs_background": "light"
     },
     "output_type": "display_data"
    }
   ],
   "source": [
    "dbn.train(batch[6], epochs=20, lr=3e-3)"
   ]
  },
  {
   "cell_type": "code",
   "execution_count": 8,
   "metadata": {},
   "outputs": [],
   "source": [
    "noise = np.random.normal(size=(1, np.prod(input_shape)))\n",
    "output = noise\n",
    "n_iter = 3\n",
    "\n",
    "for _ in range(n_iter):\n",
    "    output = dbn.backward(dbn.forward(output))"
   ]
  },
  {
   "cell_type": "markdown",
   "metadata": {},
   "source": [
    "# Post-process data"
   ]
  },
  {
   "cell_type": "code",
   "execution_count": 9,
   "metadata": {},
   "outputs": [],
   "source": [
    "img = np.squeeze(output.reshape(input_shape))"
   ]
  },
  {
   "cell_type": "code",
   "execution_count": 10,
   "metadata": {},
   "outputs": [
    {
     "data": {
      "image/png": "[encoded data removed]",
      "text/plain": [
       "<Figure size 432x288 with 1 Axes>"
      ]
     },
     "metadata": {
      "needs_background": "light"
     },
     "output_type": "display_data"
    }
   ],
   "source": [
    "show_img(img)"
   ]
  }
 ],
 "metadata": {
  "kernelspec": {
   "display_name": "Python 3",
   "language": "python",
   "name": "python3"
  },
  "language_info": {
   "codemirror_mode": {
    "name": "ipython",
    "version": 3
   },
   "file_extension": ".py",
   "mimetype": "text/x-python",
   "name": "python",
   "nbconvert_exporter": "python",
   "pygments_lexer": "ipython3",
   "version": "3.6.7"
  }
 },
 "nbformat": 4,
 "nbformat_minor": 2
}
