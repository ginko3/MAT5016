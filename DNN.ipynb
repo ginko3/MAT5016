{
 "cells": [
  {
   "cell_type": "code",
   "execution_count": 1,
   "metadata": {},
   "outputs": [
    {
     "name": "stderr",
     "output_type": "stream",
     "text": [
      "Using TensorFlow backend.\n"
     ]
    }
   ],
   "source": [
    "import numpy as np\n",
    "import keras\n",
    "from keras.datasets import mnist\n",
    "from matplotlib import pyplot as plt\n",
    "\n",
    "from DNN import DNN\n",
    "from utils import show_img\n",
    "import scipy.io as sio"
   ]
  },
  {
   "cell_type": "markdown",
   "metadata": {},
   "source": [
    "# Load & pre-process data"
   ]
  },
  {
   "cell_type": "raw",
   "metadata": {},
   "source": [
    "# Load data\n",
    "(X, Y), (X_test, Y_test) = mnist.load_data()\n",
    "\n",
    "input_shape = (28, 28)\n",
    "\n",
    "# Reshape\n",
    "X = X.reshape((-1, 28*28)) / 255\n",
    "Y = keras.utils.to_categorical(Y)\n",
    "\n",
    "# Shuffle\n",
    "p = np.random.permutation(60000)\n",
    "X = X[p,]\n",
    "Y = Y[p,]\n",
    "\n",
    "print(f\"X: {X.shape}\\nY: {Y.shape}\\ninput_shape: {input_shape}\")"
   ]
  },
  {
   "cell_type": "markdown",
   "metadata": {},
   "source": [
    "## Loads binaryAlphadigits"
   ]
  },
  {
   "cell_type": "code",
   "execution_count": 2,
   "metadata": {},
   "outputs": [
    {
     "name": "stdout",
     "output_type": "stream",
     "text": [
      "X: (1404, 320)\n",
      "Y: (1404, 36)\n",
      "input_shape: (20, 16)\n"
     ]
    }
   ],
   "source": [
    "num_class = 36\n",
    "input_shape = (20, 16)\n",
    "\n",
    "classlabels = sio.loadmat('data/binaryalphadigs.mat')['classlabels'][0]\n",
    "dat = sio.loadmat('data/binaryalphadigs.mat')['dat']\n",
    "num_example = 39\n",
    "\n",
    "X = np.zeros((num_class, num_example, *input_shape))\n",
    "Y = np.zeros((num_class, num_example))\n",
    "\n",
    "for idx_class in range(num_class):\n",
    "    X[idx_class] = np.array([*dat[idx_class,:]])\n",
    "    Y[idx_class] = idx_class\n",
    "    \n",
    "X = X.reshape((-1, np.prod(input_shape)))\n",
    "\n",
    "Y = Y.reshape((-1))\n",
    "Y = keras.utils.to_categorical(Y)\n",
    "\n",
    "# Shuffle\n",
    "p = np.random.permutation(X.shape[0])\n",
    "X = X[p,]\n",
    "Y = Y[p,]\n",
    "\n",
    "print(f\"X: {X.shape}\\nY: {Y.shape}\\ninput_shape: {input_shape}\")"
   ]
  },
  {
   "cell_type": "markdown",
   "metadata": {},
   "source": [
    "# Training"
   ]
  },
  {
   "cell_type": "code",
   "execution_count": 3,
   "metadata": {},
   "outputs": [],
   "source": [
    "dnn = DNN(n_h=[np.prod(input_shape), 32, num_class])"
   ]
  },
  {
   "cell_type": "code",
   "execution_count": 4,
   "metadata": {},
   "outputs": [
    {
     "name": "stderr",
     "output_type": "stream",
     "text": [
      "100%|██████████| 100/100 [00:14<00:00,  6.83it/s]\n",
      "100%|██████████| 100/100 [00:03<00:00, 31.29it/s]\n"
     ]
    },
    {
     "data": {
      "image/png": "[encoded data removed]",
      "text/plain": [
       "<Figure size 432x288 with 1 Axes>"
      ]
     },
     "metadata": {
      "needs_background": "light"
     },
     "output_type": "display_data"
    }
   ],
   "source": [
    "dnn.train(X, epochs=100, lr=1e-4)"
   ]
  },
  {
   "cell_type": "code",
   "execution_count": 5,
   "metadata": {},
   "outputs": [
    {
     "name": "stdout",
     "output_type": "stream",
     "text": [
      "Loss: 4.563\tAcc: 3.49\n",
      "Loss: 4.465\tAcc: 12.251\n",
      "Loss: 4.376\tAcc: 14.601\n",
      "Loss: 4.322\tAcc: 16.168\n",
      "Loss: 4.29\tAcc: 16.524\n"
     ]
    },
    {
     "data": {
      "image/png": "[encoded data removed]",
      "text/plain": [
       "<Figure size 432x288 with 1 Axes>"
      ]
     },
     "metadata": {
      "needs_background": "light"
     },
     "output_type": "display_data"
    }
   ],
   "source": [
    "dnn.train_supervised(X, Y, epochs=50, batch_size=8, lr=1)"
   ]
  },
  {
   "cell_type": "markdown",
   "metadata": {},
   "source": [
    "# Create image"
   ]
  },
  {
   "cell_type": "code",
   "execution_count": 6,
   "metadata": {},
   "outputs": [],
   "source": [
    "noise = np.random.normal(size=(1, np.prod(input_shape)))\n",
    "output = noise\n",
    "n_iter = 40\n",
    "\n",
    "for _ in range(n_iter):\n",
    "    output = dnn.backward(dnn.forward(output))"
   ]
  },
  {
   "cell_type": "code",
   "execution_count": 7,
   "metadata": {},
   "outputs": [],
   "source": [
    "img = np.squeeze(output.reshape(input_shape))"
   ]
  },
  {
   "cell_type": "code",
   "execution_count": 8,
   "metadata": {},
   "outputs": [
    {
     "data": {
      "image/png": "[encoded data removed]",
      "text/plain": [
       "<Figure size 432x288 with 1 Axes>"
      ]
     },
     "metadata": {
      "needs_background": "light"
     },
     "output_type": "display_data"
    }
   ],
   "source": [
    "show_img(img)"
   ]
  },
  {
   "cell_type": "markdown",
   "metadata": {},
   "source": [
    "# Visualization (classification)"
   ]
  },
  {
   "cell_type": "code",
   "execution_count": 9,
   "metadata": {},
   "outputs": [],
   "source": [
    "def idx2char(idx):\n",
    "    if idx < 10:\n",
    "        return str(idx)\n",
    "    else:\n",
    "        return chr(97 + idx - 10)"
   ]
  },
  {
   "cell_type": "code",
   "execution_count": 10,
   "metadata": {},
   "outputs": [
    {
     "data": {
      "image/png": "[encoded data removed]",
      "text/plain": [
       "<Figure size 1440x720 with 5 Axes>"
      ]
     },
     "metadata": {
      "needs_background": "light"
     },
     "output_type": "display_data"
    }
   ],
   "source": [
    "n_images = 5\n",
    "\n",
    "# Sample images\n",
    "sample_idx = np.random.choice(X.shape[0], n_images)\n",
    "x_sample = X[sample_idx]\n",
    "y_sample = Y[sample_idx]\n",
    "\n",
    "# Run prediction\n",
    "y_hat = dnn.forward_full(x_sample)\n",
    "\n",
    "# Visualize\n",
    "plt.figure(figsize=(20, 10))\n",
    "for i in range(n_images):\n",
    "    ax = plt.subplot(1, n_images, i+1)\n",
    "    \n",
    "    plt.imshow(x_sample[i].reshape(input_shape), cmap=\"gray\")\n",
    "    ax.get_xaxis().set_visible(False)\n",
    "    ax.get_yaxis().set_visible(False)\n",
    "    ax.set_title(f\"{idx2char(np.argmax(y_hat[i]))} ({idx2char(np.argmax(y_sample[i]))})\")"
   ]
  }
 ],
 "metadata": {
  "kernelspec": {
   "display_name": "Python 3",
   "language": "python",
   "name": "python3"
  },
  "language_info": {
   "codemirror_mode": {
    "name": "ipython",
    "version": 3
   },
   "file_extension": ".py",
   "mimetype": "text/x-python",
   "name": "python",
   "nbconvert_exporter": "python",
   "pygments_lexer": "ipython3",
   "version": "3.6.7"
  }
 },
 "nbformat": 4,
 "nbformat_minor": 2
}
